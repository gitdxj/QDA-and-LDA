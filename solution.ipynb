{
 "cells": [
  {
   "cell_type": "code",
   "execution_count": 1,
   "metadata": {},
   "outputs": [],
   "source": [
    "import numpy as np\n",
    "import matplotlib.pyplot as plt\n",
    "import pandas as pd\n",
    "from sklearn import model_selection"
   ]
  },
  {
   "cell_type": "code",
   "execution_count": 2,
   "metadata": {},
   "outputs": [
    {
     "name": "stdout",
     "output_type": "stream",
     "text": [
      "dict_keys(['data', 'target', 'target_names', 'images', 'DESCR'])\n",
      "<class 'numpy.ndarray'>\n",
      "<class 'numpy.ndarray'>\n",
      "(1797, 8, 8)\n"
     ]
    }
   ],
   "source": [
    "# load dataset from from sklearn\n",
    "from sklearn.datasets import load_digits\n",
    "digits = load_digits()\n",
    "print(digits.keys())\n",
    "print(type(digits.data))\n",
    "print(type(digits.images))\n",
    "print(digits.images.shape)"
   ]
  },
  {
   "cell_type": "code",
   "execution_count": 3,
   "metadata": {},
   "outputs": [],
   "source": [
    "# define color\n",
    "yellow = 1\n",
    "green = 0.7"
   ]
  },
  {
   "cell_type": "markdown",
   "metadata": {},
   "source": [
    "# 3. Data Preparation"
   ]
  },
  {
   "cell_type": "code",
   "execution_count": 4,
   "metadata": {},
   "outputs": [
    {
     "name": "stdout",
     "output_type": "stream",
     "text": [
      "the numebr of instances is 361\n",
      "number of instances in traning data: 216\n",
      "number of instances in test data: 145\n"
     ]
    }
   ],
   "source": [
    "def select_by_y(X, Y, selection):\n",
    "    \"\"\"\n",
    "    select instances whose y is in selection\n",
    "    Args:\n",
    "        X: feature set\n",
    "        Y: response(target) set\n",
    "        selection: list of target value\n",
    "    \"\"\"\n",
    "    N = len(X)\n",
    "    new_X = []\n",
    "    new_Y = []\n",
    "    for i in range(N):\n",
    "        if Y[i] in selection:\n",
    "            new_X.append(X[i])\n",
    "            new_Y.append(Y[i])\n",
    "    return np.asarray(new_X),np.asarray(new_Y)\n",
    "\n",
    "# select instances whose target are \"1\" and \"7\"\n",
    "X_all, Y_all = select_by_y(digits.data, digits.target, [1, 7])\n",
    "print(\"the numebr of instances is\", len(X_all))\n",
    "\n",
    "# split data set into training data and test data\n",
    "X_train, X_test, Y_train, Y_test = model_selection.train_test_split(X_all, Y_all, test_size=0.4, random_state=0)\n",
    "print(\"number of instances in traning data:\", len(X_train))\n",
    "print(\"number of instances in test data:\", len(X_test))"
   ]
  },
  {
   "cell_type": "markdown",
   "metadata": {},
   "source": [
    "## 3.1 Dimension Reduction\n",
    "* choose two pixels that seem to have a big influence\n",
    "* come up with some clever combination of the 64 original pixel values into 2 features"
   ]
  },
  {
   "cell_type": "code",
   "execution_count": 5,
   "metadata": {},
   "outputs": [],
   "source": [
    "X_train_1, _ = select_by_y(X_train, Y_train, [1])\n",
    "X_train_7, _ = select_by_y(X_train, Y_train, [7])\n",
    "\n",
    "# calculate the mean of all instances of 1 and 7 respectively\n",
    "mean_1 = np.mean(X_train_1, axis=0)\n",
    "mean_7 = np.mean(X_train_7, axis=0)\n",
    "\n",
    "# mean_1_image = mean_1.reshape((8,8))\n",
    "# mean_7_image = mean_7.reshape((8,8))\n",
    "# def show_image(image):\n",
    "#     plt.figure()\n",
    "#     plt.gray()\n",
    "#     plt.imshow(image, interpolation=\"nearest\")\n",
    "#     plt.show()\n",
    "# show_image(mean_1_image)\n",
    "# show_image(mean_7_image)\n",
    "\n",
    "# select the most influential K dimensions\n",
    "def topK_important_dimension(mean_a, mean_b, K):\n",
    "    N = len(mean_a)\n",
    "    assert K<=N\n",
    "    return np.argsort(np.absolute(np.subtract(mean_a, mean_b)))[N-K:]\n",
    "\n",
    "dims = topK_important_dimension(mean_1, mean_7, 2)\n",
    "\n",
    "def reduce_dim(X):\n",
    "    N = len(X)\n",
    "    return X[:,dims] # take the most 2 important dimensions\n",
    "\n",
    "X_train = reduce_dim(X_train)\n",
    "X_test = reduce_dim(X_test)\n",
    "X_train_1 = reduce_dim(X_train_1)\n",
    "X_train_7 = reduce_dim(X_train_7)\n",
    "#print(X_train)\n"
   ]
  },
  {
   "cell_type": "markdown",
   "metadata": {},
   "source": [
    "## 3.2 Scatterplot"
   ]
  },
  {
   "cell_type": "code",
   "execution_count": 6,
   "metadata": {},
   "outputs": [
    {
     "data": {
      "image/png": "[encoded data removed]",
      "text/plain": [
       "<Figure size 432x288 with 1 Axes>"
      ]
     },
     "metadata": {
      "needs_background": "light"
     },
     "output_type": "display_data"
    }
   ],
   "source": [
    "plt.scatter(X_train_1[:,0].transpose(), X_train_1[:,1].transpose(), c='r', label=\"1\")\n",
    "plt.scatter(X_train_7[:,0].transpose(), X_train_7[:,1].transpose(), c='b', label=\"7\")\n",
    "plt.legend()\n",
    "plt.show()"
   ]
  },
  {
   "cell_type": "markdown",
   "metadata": {},
   "source": [
    "# 4. Nearest Mean"
   ]
  },
  {
   "cell_type": "markdown",
   "metadata": {},
   "source": [
    "## 4.1 Implement the nearest mean classifier"
   ]
  },
  {
   "cell_type": "code",
   "execution_count": 7,
   "metadata": {},
   "outputs": [
    {
     "name": "stdout",
     "output_type": "stream",
     "text": [
      "0.006896551724137931\n"
     ]
    }
   ],
   "source": [
    "def dist_vec(training, test):\n",
    "    \"\"\"\n",
    "    calculate the distance matrix using vectorization method\n",
    "    \"\"\"\n",
    "    training_square = np.sum(training*training, axis=1, keepdims=True)\n",
    "    test_square = np.sum(test*test, axis=1, keepdims=True).T\n",
    "    distances = np.dot(training, test.T)\n",
    "    distances *= -2\n",
    "    distances += training_square\n",
    "    distances += test_square\n",
    "    np.maximum(distances, 0, distances)\n",
    "    np.sqrt(distances, distances)\n",
    "    return distances\n",
    "\n",
    "def nearest_mean(training_features, training_labels, test_features):\n",
    "    \"\"\"\n",
    "    predict by nearest mean\n",
    "    \"\"\"\n",
    "    train_1, _ = select_by_y(training_features, training_labels, [1]) # training features whose label is 1\n",
    "    train_7, _ = select_by_y(training_features, training_labels, [7]) # training features whose label is 7\n",
    "    mean_1 = np.mean(train_1, axis=0)\n",
    "    mean_7 = np.mean(train_7, axis=0)\n",
    "    mean_matrix = np.vstack((mean_1, mean_7))\n",
    "    distance_matrix = dist_vec(mean_matrix, test_features) # distance matrix: 2*M (M is the number of instances in test set)\n",
    "    sorted_distance_indices = np.argsort(distance_matrix, axis=0)\n",
    "    nearest_indices = sorted_distance_indices[0,:]\n",
    "    return np.asarray([1,7]).take(nearest_indices)\n",
    "\n",
    "def cal_err(Y_test, Y_pred):\n",
    "    \"\"\"calculate the error rate\"\"\"\n",
    "    return np.sum((Y_test - Y_pred)!=0)/Y_pred.size\n",
    "    \n",
    "Y_pred = nearest_mean(X_train, Y_train, X_test)\n",
    "print(cal_err(Y_test, Y_pred))\n",
    "    \n",
    "# a = np.asarray([1,7])\n",
    "# print(a.take([0,1,1,1,1]))"
   ]
  },
  {
   "cell_type": "markdown",
   "metadata": {},
   "source": [
    "## 4.2 Visualize the decision regions"
   ]
  },
  {
   "cell_type": "code",
   "execution_count": 8,
   "metadata": {},
   "outputs": [
    {
     "data": {
      "image/png": "[encoded data removed]",
      "text/plain": [
       "<Figure size 432x288 with 2 Axes>"
      ]
     },
     "metadata": {
      "needs_background": "light"
     },
     "output_type": "display_data"
    }
   ],
   "source": [
    "mean_1 = np.mean(X_train_1, axis=0)\n",
    "mean_7 = np.mean(X_train_7, axis=0)\n",
    "def predict(X): # X: 1*2 vector\n",
    "    distance_1 = np.sqrt(np.sum(np.subtract(X, mean_1)**2))\n",
    "    distance_7 = np.sqrt(np.sum(np.subtract(X, mean_7)**2))\n",
    "    if distance_1 < distance_7:\n",
    "        return 1\n",
    "    else:\n",
    "        return 7\n",
    "\n",
    "def decision_region():\n",
    "    image = np.zeros((200, 200))\n",
    "    step = 16 / (200-1)\n",
    "    for i in range(200):\n",
    "        for j in range(200):\n",
    "            x0 = i*step\n",
    "            x1 = j*step\n",
    "            if predict([x0,x1]) == 1:\n",
    "                image[i][j] = green\n",
    "            else :\n",
    "                image[i][j] = yellow\n",
    "    return image\n",
    "\n",
    "\n",
    "X_test_draw_1, _ = select_by_y((X_test*199/16).astype(int), Y_test, [1])\n",
    "X_test_draw_7, _ = select_by_y((X_test*199/16).astype(int), Y_test, [7])\n",
    "\n",
    "plt.figure()\n",
    "plt.imshow(decision_region(), vmin=0, vmax=1)\n",
    "plt.scatter(X_test_draw_1[:,0].transpose(), X_test_draw_1[:,1].transpose(), c=\"r\")\n",
    "plt.scatter(X_test_draw_7[:,0].transpose(), X_test_draw_7[:,1].transpose(), c=\"b\")\n",
    "plt.colorbar() \n",
    "plt.show()\n",
    "  \n",
    "    "
   ]
  },
  {
   "cell_type": "markdown",
   "metadata": {},
   "source": [
    "# QDA\n",
    "## 5.1 Implement QDA Training\n",
    "\n",
    "$$\\hat{\\mu}_k = \\frac{1}{N_k}\\Sigma_{i:y_i=k}x_i$$\n",
    "$$\\hat{\\Sigma_k} = \\frac{1}{N_k}\\Sigma_{i:y_i=k}(x_i-\\mu_k)^T(x_i-\\mu_k)$$\n",
    "$x_i$ is the i th instance"
   ]
  },
  {
   "cell_type": "code",
   "execution_count": 15,
   "metadata": {},
   "outputs": [],
   "source": [
    "def fit_qda(training_features, training_labels):\n",
    "    D = training_features.shape[1]  # dimensions of training data\n",
    "    X_0, _ = select_by_y(training_features, training_labels, [1])\n",
    "    X_1, _ = select_by_y(training_features, training_labels, [7])\n",
    "    mu = np.vstack((np.mean(X_0, axis=0), np.mean(X_1, axis=0)))\n",
    "    covmat = np.zeros((2,D,D))\n",
    "    for i in range(len(X_0)):\n",
    "        covmat[0] += 1/len(X_0)* np.mat(X_0[i]-mu[0]).T * np.mat(X_0[i]-mu[0])\n",
    "    for i in range(len(X_1)):\n",
    "        covmat[1] += 1/len(X_1)* np.mat(X_1[i]-mu[1]).T * np.mat(X_1[i]-mu[1])\n",
    "    prior = [len(X_0)/len(training_features), len(X_1)/len(training_features)]\n",
    "    return mu, covmat, prior\n"
   ]
  },
  {
   "cell_type": "markdown",
   "metadata": {},
   "source": [
    "calculate $\\mu, \\Sigma$ and priors"
   ]
  },
  {
   "cell_type": "code",
   "execution_count": 16,
   "metadata": {},
   "outputs": [],
   "source": [
    "mu, covmat, p = fit_qda(X_train, Y_train)"
   ]
  },
  {
   "cell_type": "markdown",
   "metadata": {},
   "source": [
    "## 5.2 Implement QDA Prediction"
   ]
  },
  {
   "cell_type": "code",
   "execution_count": 17,
   "metadata": {},
   "outputs": [
    {
     "name": "stdout",
     "output_type": "stream",
     "text": [
      "error rate of test set: 0.006896551724137931\n"
     ]
    }
   ],
   "source": [
    "def predict_qda(mu, covmat, p, test_features):\n",
    "    M = len(test_features)\n",
    "    b_0 = (1/2)*np.log(np.linalg.det(2*np.pi*covmat[0])) - np.log(p[0])\n",
    "    b_1 = (1/2)*np.log(np.linalg.det(2*np.pi*covmat[1])) - np.log(p[1])\n",
    "    likelihoods = np.zeros((2, M))\n",
    "    for i in range(M):\n",
    "        likelihoods[0][i] = (1/2)*np.mat(test_features[i]-mu[0])*np.linalg.inv(covmat[0])*np.mat(test_features[i]-mu[0]).T + b_0\n",
    "        likelihoods[1][i] = (1/2)*np.mat(test_features[i]-mu[1])*np.linalg.inv(covmat[1])*np.mat(test_features[i]-mu[1]).T + b_1\n",
    "    sorted_indices = np.argsort(likelihoods, axis=0)\n",
    "    return sorted_indices[0, :]\n",
    "\n",
    "\n",
    "# make prediction\n",
    "indices5 = predict_qda(mu, covmat, p, X_test)\n",
    "Y_pred5 = np.asarray([1,7]).take(indices5)  # map 0,1 in predictions to real response value \"1\" and \"7\"\n",
    "print(\"error rate of test set:\",cal_err(Y_pred5, Y_test))\n",
    "\n",
    "        "
   ]
  },
  {
   "cell_type": "markdown",
   "metadata": {},
   "source": [
    "## 5.3 Visualization"
   ]
  },
  {
   "cell_type": "code",
   "execution_count": 44,
   "metadata": {},
   "outputs": [
    {
     "data": {
      "image/png": "[encoded data removed]",
      "text/plain": [
       "<Figure size 432x288 with 1 Axes>"
      ]
     },
     "metadata": {
      "needs_background": "light"
     },
     "output_type": "display_data"
    }
   ],
   "source": [
    "N_image = 200\n",
    "image = np.zeros((N_image, N_image))\n",
    "step = 16 / (N_image-1)\n",
    "for i in range(N_image):\n",
    "    for j in range(N_image):\n",
    "        x0 = i*step\n",
    "        x1 = j*step\n",
    "        if predict_qda(mu, covmat, p, [[x0,x1]]) == 0:\n",
    "            image[i][j] = green\n",
    "        else :\n",
    "            image[i][j] = yellow\n",
    "\n",
    "\n",
    "X_test_draw_1, _ = select_by_y((X_test*(1/step)).astype(int), Y_test, [1])\n",
    "X_test_draw_7, _ = select_by_y((X_test*(1/step)).astype(int), Y_test, [7])\n",
    "\n",
    "plt.figure()\n",
    "plt.imshow(image, vmin=0, vmax=1)\n",
    "plt.scatter(X_test_draw_1[:,0].transpose(), X_test_draw_1[:,1].transpose(), c=\"r\", label=\"1\")\n",
    "plt.scatter(X_test_draw_7[:,0].transpose(), X_test_draw_7[:,1].transpose(), c=\"b\", label=\"7\")\n",
    "plt.legend()\n",
    "plt.show()"
   ]
  },
  {
   "cell_type": "markdown",
   "metadata": {},
   "source": [
    "# 6 LDA\n",
    "$$\\Sigma_w = \\frac{1}{N}\\Sigma_{i=1}^{N}(x_i-\\mu_{y_i})^T(x_i-\\mu_{y_i})$$"
   ]
  },
  {
   "cell_type": "code",
   "execution_count": 46,
   "metadata": {},
   "outputs": [
    {
     "name": "stdout",
     "output_type": "stream",
     "text": [
      "0.006896551724137931\n"
     ]
    }
   ],
   "source": [
    "def fit_lda(training_features, training_labels):\n",
    "    D = training_features.shape[1]  # dimensions of training data\n",
    "    X_0, _ = select_by_y(training_features, training_labels, [1])\n",
    "    X_1, _ = select_by_y(training_features, training_labels, [7])\n",
    "    mu = np.vstack((np.mean(X_0, axis=0), np.mean(X_1, axis=0)))\n",
    "    covmat = np.zeros((D,D))\n",
    "    for i in range(len(X_0)):\n",
    "        covmat += 1/len(X_0)* np.mat(X_0[i]-mu[0]).T * np.mat(X_0[i]-mu[0])\n",
    "    for i in range(len(X_1)):\n",
    "        covmat += 1/len(X_1)* np.mat(X_1[i]-mu[1]).T * np.mat(X_1[i]-mu[1])\n",
    "    prior = [len(X_0)/len(training_features), len(X_1)/len(training_features)]\n",
    "    return mu, covmat, prior\n",
    "    \n",
    "def predict_lda(mu, covmat, prior, test_features):\n",
    "    b_0 = (1/2)*np.log(np.linalg.det(2*np.pi*covmat)) - np.log(p[0])\n",
    "    b_1 = (1/2)*np.log(np.linalg.det(2*np.pi*covmat)) - np.log(p[1])\n",
    "    b_0 += (1/2)*np.mat(mu[0])*np.mat(covmat)*np.mat(mu[0]).T\n",
    "    b_1 += (1/2)*np.mat(mu[1])*np.mat(covmat)*np.mat(mu[1]).T\n",
    "    b = b_0 - b_1\n",
    "    W = np.mat(mu[1]-mu[0])*np.mat(covmat)\n",
    "    predicted = np.mat(W)*np.mat(test_features).T + b\n",
    "    predicted = predicted>0\n",
    "    predicted = predicted + 0\n",
    "    return predicted\n",
    "    \n",
    "mu, covmat, p = fit_lda(X_train, Y_train)\n",
    "indices6 = predict_lda(mu, covmat, p, X_test)\n",
    "Y_pred6 = np.asarray([1,7]).take(indices6)\n",
    "print(cal_err(Y_pred6, Y_test))\n"
   ]
  },
  {
   "cell_type": "code",
   "execution_count": 47,
   "metadata": {},
   "outputs": [
    {
     "data": {
      "image/png": "[encoded data removed]",
      "text/plain": [
       "<Figure size 432x288 with 1 Axes>"
      ]
     },
     "metadata": {
      "needs_background": "light"
     },
     "output_type": "display_data"
    }
   ],
   "source": [
    "N_image = 200\n",
    "image = np.zeros((N_image, N_image))\n",
    "step = 16 / (N_image-1)\n",
    "for i in range(N_image):\n",
    "    for j in range(N_image):\n",
    "        x0 = i*step\n",
    "        x1 = j*step\n",
    "        if predict_lda(mu, covmat, p, [[x0,x1]]) == 0:\n",
    "            image[i][j] = green\n",
    "        else :\n",
    "            image[i][j] = yellow\n",
    "\n",
    "\n",
    "X_test_draw_1, _ = select_by_y((X_test*(1/step)).astype(int), Y_test, [1])\n",
    "X_test_draw_7, _ = select_by_y((X_test*(1/step)).astype(int), Y_test, [7])\n",
    "\n",
    "plt.figure()\n",
    "plt.imshow(image, vmin=0, vmax=1)\n",
    "plt.scatter(X_test_draw_1[:,0].transpose(), X_test_draw_1[:,1].transpose(), c=\"r\", label=\"1\")\n",
    "plt.scatter(X_test_draw_7[:,0].transpose(), X_test_draw_7[:,1].transpose(), c=\"b\", label=\"7\")\n",
    "plt.legend()\n",
    "plt.show()"
   ]
  },
  {
   "cell_type": "code",
   "execution_count": null,
   "metadata": {},
   "outputs": [],
   "source": []
  }
 ],
 "metadata": {
  "kernelspec": {
   "display_name": "Python 3",
   "language": "python",
   "name": "python3"
  },
  "language_info": {
   "codemirror_mode": {
    "name": "ipython",
    "version": 3
   },
   "file_extension": ".py",
   "mimetype": "text/x-python",
   "name": "python",
   "nbconvert_exporter": "python",
   "pygments_lexer": "ipython3",
   "version": "3.7.6"
  }
 },
 "nbformat": 4,
 "nbformat_minor": 4
}
