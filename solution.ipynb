{
 "cells": [
  {
   "cell_type": "code",
   "execution_count": 1,
   "metadata": {},
   "outputs": [],
   "source": [
    "import numpy as np\n",
    "import matplotlib.pyplot as plt\n",
    "import pandas as pd\n",
    "from sklearn import model_selection"
   ]
  },
  {
   "cell_type": "code",
   "execution_count": 2,
   "metadata": {},
   "outputs": [
    {
     "name": "stdout",
     "output_type": "stream",
     "text": [
      "dict_keys(['data', 'target', 'target_names', 'images', 'DESCR'])\n",
      "<class 'numpy.ndarray'>\n",
      "<class 'numpy.ndarray'>\n",
      "(1797, 8, 8)\n"
     ]
    }
   ],
   "source": [
    "# load dataset from from sklearn\n",
    "from sklearn.datasets import load_digits\n",
    "digits = load_digits()\n",
    "print(digits.keys())\n",
    "print(type(digits.data))\n",
    "print(type(digits.images))\n",
    "print(digits.images.shape)"
   ]
  },
  {
   "cell_type": "markdown",
   "metadata": {},
   "source": [
    "# 3. Data Preparation"
   ]
  },
  {
   "cell_type": "code",
   "execution_count": 3,
   "metadata": {},
   "outputs": [
    {
     "name": "stdout",
     "output_type": "stream",
     "text": [
      "the numebr of instances is 361\n",
      "number of instances in traning data: 216\n",
      "number of instances in test data: 145\n"
     ]
    }
   ],
   "source": [
    "def select_by_y(X, Y, selection):\n",
    "    \"\"\"\n",
    "    select instances whose y is in selection\n",
    "    Args:\n",
    "        X: feature set\n",
    "        Y: response(target) set\n",
    "        selection: list of target value\n",
    "    \"\"\"\n",
    "    N = len(X)\n",
    "    new_X = []\n",
    "    new_Y = []\n",
    "    for i in range(N):\n",
    "        if Y[i] in selection:\n",
    "            new_X.append(X[i])\n",
    "            new_Y.append(Y[i])\n",
    "    return np.asarray(new_X),np.asarray(new_Y)\n",
    "\n",
    "# select instances whose target are \"1\" and \"7\"\n",
    "X_all, Y_all = select_by_y(digits.data, digits.target, [1, 7])\n",
    "print(\"the numebr of instances is\", len(X_all))\n",
    "\n",
    "# split data set into training data and test data\n",
    "X_train, X_test, Y_train, Y_test = model_selection.train_test_split(X_all, Y_all, test_size=0.4, random_state=0)\n",
    "print(\"number of instances in traning data:\", len(X_train))\n",
    "print(\"number of instances in test data:\", len(X_test))"
   ]
  },
  {
   "cell_type": "markdown",
   "metadata": {},
   "source": [
    "## 3.1 Dimension Reduction\n",
    "* choose two pixels that seem to have a big influence\n",
    "* come up with some clever combination of the 64 original pixel values into 2 features"
   ]
  },
  {
   "cell_type": "code",
   "execution_count": 4,
   "metadata": {},
   "outputs": [],
   "source": [
    "X_train_1, _ = select_by_y(X_train, Y_train, [1])\n",
    "X_train_7, _ = select_by_y(X_train, Y_train, [7])\n",
    "\n",
    "# calculate the mean of all instances of 1 and 7 respectively\n",
    "mean_1 = np.mean(X_train_1, axis=0)\n",
    "mean_7 = np.mean(X_train_7, axis=0)\n",
    "\n",
    "# mean_1_image = mean_1.reshape((8,8))\n",
    "# mean_7_image = mean_7.reshape((8,8))\n",
    "# def show_image(image):\n",
    "#     plt.figure()\n",
    "#     plt.gray()\n",
    "#     plt.imshow(image, interpolation=\"nearest\")\n",
    "#     plt.show()\n",
    "# show_image(mean_1_image)\n",
    "# show_image(mean_7_image)\n",
    "\n",
    "# select the most influential K dimensions\n",
    "def topK_important_dimension(mean_a, mean_b, K):\n",
    "    N = len(mean_a)\n",
    "    assert K<=N\n",
    "    return np.argsort(np.absolute(np.subtract(mean_a, mean_b)))[N-K:]\n",
    "\n",
    "dims = topK_important_dimension(mean_1, mean_7, 2)\n",
    "\n",
    "def reduce_dim(X):\n",
    "    N = len(X)\n",
    "    return X[:,dims] # take the most 2 important dimensions\n",
    "\n",
    "X_train = reduce_dim(X_train)\n",
    "X_test = reduce_dim(X_test)\n",
    "X_train_1 = reduce_dim(X_train_1)\n",
    "X_train_7 = reduce_dim(X_train_7)\n",
    "#print(X_train)\n"
   ]
  },
  {
   "cell_type": "markdown",
   "metadata": {},
   "source": [
    "## 3.2 Scatterplot"
   ]
  },
  {
   "cell_type": "code",
   "execution_count": 5,
   "metadata": {},
   "outputs": [
    {
     "data": {
      "image/png": "[encoded data removed]",
      "text/plain": [
       "<Figure size 432x288 with 1 Axes>"
      ]
     },
     "metadata": {
      "needs_background": "light"
     },
     "output_type": "display_data"
    }
   ],
   "source": [
    "plt.scatter(X_train_1[:,0].transpose(), X_train_1[:,1].transpose(), c='b', label=\"1\")\n",
    "plt.scatter(X_train_7[:,0].transpose(), X_train_7[:,1].transpose(), c='r', label=\"7\")\n",
    "plt.legend()\n",
    "plt.show()"
   ]
  },
  {
   "cell_type": "markdown",
   "metadata": {},
   "source": [
    "# 4. Nearest Mean"
   ]
  },
  {
   "cell_type": "markdown",
   "metadata": {},
   "source": [
    "## 4.1 Implement the nearest mean classifier"
   ]
  },
  {
   "cell_type": "code",
   "execution_count": 6,
   "metadata": {},
   "outputs": [
    {
     "name": "stdout",
     "output_type": "stream",
     "text": [
      "0.006896551724137931\n"
     ]
    }
   ],
   "source": [
    "def dist_vec(training, test):\n",
    "    \"\"\"\n",
    "    calculate the distance matrix using vectorization method\n",
    "    \"\"\"\n",
    "    training_square = np.sum(training*training, axis=1, keepdims=True)\n",
    "    test_square = np.sum(test*test, axis=1, keepdims=True).T\n",
    "    distances = np.dot(training, test.T)\n",
    "    distances *= -2\n",
    "    distances += training_square\n",
    "    distances += test_square\n",
    "    np.maximum(distances, 0, distances)\n",
    "    np.sqrt(distances, distances)\n",
    "    return distances\n",
    "\n",
    "def nearest_mean(training_features, training_labels, test_features):\n",
    "    \"\"\"\n",
    "    predict by nearest mean\n",
    "    \"\"\"\n",
    "    train_1, _ = select_by_y(training_features, training_labels, [1]) # training features whose label is 1\n",
    "    train_7, _ = select_by_y(training_features, training_labels, [7]) # training features whose label is 7\n",
    "    mean_1 = np.mean(train_1, axis=0)\n",
    "    mean_7 = np.mean(train_7, axis=0)\n",
    "    mean_matrix = np.vstack((mean_1, mean_7))\n",
    "    distance_matrix = dist_vec(mean_matrix, test_features) # distance matrix: 2*M (M is the number of instances in test set)\n",
    "    sorted_distance_indices = np.argsort(distance_matrix, axis=0)\n",
    "    nearest_indices = sorted_distance_indices[0,:]\n",
    "    return np.asarray([1,7]).take(nearest_indices)\n",
    "\n",
    "def cal_err(Y_test, Y_pred):\n",
    "    \"\"\"calculate the error rate\"\"\"\n",
    "    return np.sum(np.subtract(Y_test, Y_pred)!=0)/Y_pred.size\n",
    "    \n",
    "Y_pred = nearest_mean(X_train, Y_train, X_test)\n",
    "print(cal_err(Y_test, Y_pred))\n",
    "    \n",
    "# a = np.asarray([1,7])\n",
    "# print(a.take([0,1,1,1,1]))"
   ]
  },
  {
   "cell_type": "markdown",
   "metadata": {},
   "source": [
    "## 4.2 Visualize the decision regions"
   ]
  },
  {
   "cell_type": "code",
   "execution_count": 7,
   "metadata": {},
   "outputs": [
    {
     "data": {
      "image/png": "[encoded data removed]",
      "text/plain": [
       "<Figure size 432x288 with 1 Axes>"
      ]
     },
     "metadata": {
      "needs_background": "light"
     },
     "output_type": "display_data"
    }
   ],
   "source": [
    "mean_1 = np.mean(X_train_1, axis=0)\n",
    "mean_7 = np.mean(X_train_7, axis=0)\n",
    "def predict(X):\n",
    "    distance_1 = np.sqrt(np.sum(np.subtract(X, mean_1)**2))\n",
    "    distance_7 = np.sqrt(np.sum(np.subtract(X, mean_7)**2))\n",
    "    if distance_1 < distance_7:\n",
    "        return 1\n",
    "    else:\n",
    "        return 7\n",
    "\n",
    "color_1 = 0.2\n",
    "color_2 = 0.3\n",
    "\n",
    "def decision_region():\n",
    "    image = np.zeros((200, 200))\n",
    "    step = 16 / (200-1)\n",
    "    for i in range(200):\n",
    "        for j in range(200):\n",
    "            x0 = i*step\n",
    "            x1 = j*step\n",
    "            if predict([x0,x1]) == 1:\n",
    "                image[i][j] = color_1\n",
    "            else :\n",
    "                image[i][j] = color_2\n",
    "    return image\n",
    "\n",
    "\n",
    "X_test_1, _ = select_by_y((X_test*199/16).astype(int), Y_test, [1])\n",
    "X_test_7, _ = select_by_y((X_test*199/16).astype(int), Y_test, [7])\n",
    "\n",
    "plt.figure()\n",
    "plt.imshow(decision_region())\n",
    "plt.scatter(X_test_1[:,0].transpose(), X_test_1[:,1].transpose(), c=\"r\")\n",
    "plt.scatter(X_test_7[:,0].transpose(), X_test_7[:,1].transpose(), c=\"b\")\n",
    "plt.show()\n",
    "            \n",
    "    "
   ]
  }
 ],
 "metadata": {
  "kernelspec": {
   "display_name": "Python 3",
   "language": "python",
   "name": "python3"
  },
  "language_info": {
   "codemirror_mode": {
    "name": "ipython",
    "version": 3
   },
   "file_extension": ".py",
   "mimetype": "text/x-python",
   "name": "python",
   "nbconvert_exporter": "python",
   "pygments_lexer": "ipython3",
   "version": "3.7.6"
  }
 },
 "nbformat": 4,
 "nbformat_minor": 4
}
